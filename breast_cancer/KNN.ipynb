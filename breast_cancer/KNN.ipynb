{
 "cells": [
  {
   "cell_type": "markdown",
   "id": "824e80a5-3af8-493d-89f5-77c2647cb791",
   "metadata": {},
   "source": [
    "# KNN Classifier for Breast Cancer Wisconsin Dataset"
   ]
  },
  {
   "cell_type": "code",
   "execution_count": 1,
   "id": "e39a455e-3572-4835-806e-d79e1486de62",
   "metadata": {},
   "outputs": [],
   "source": [
    "import pandas as pd\n",
    "import numpy as np\n",
    "import matplotlib.pyplot as plt\n",
    "import seaborn as sns\n",
    "from sklearn.model_selection import train_test_split, GridSearchCV\n",
    "from sklearn.preprocessing import StandardScaler\n",
    "from sklearn.neighbors import KNeighborsClassifier\n",
    "from sklearn.metrics import accuracy_score, classification_report, confusion_matrix, roc_curve, roc_auc_score\n",
    "from sklearn.decomposition import PCA\n",
    "import warnings\n",
    "warnings.filterwarnings('ignore')"
   ]
  },
  {
   "cell_type": "code",
   "execution_count": 2,
   "id": "a632726d-8281-4ca1-9714-e2a417e82cac",
   "metadata": {},
   "outputs": [],
   "source": [
    "# Set style for plots\n",
    "plt.style.use('ggplot')\n",
    "sns.set(font_scale=1.2)\n",
    "colors = [\"#3498db\", \"#e74c3c\"]"
   ]
  },
  {
   "cell_type": "code",
   "execution_count": 3,
   "id": "2ca38a3d-8506-496e-a4fe-c8647518eb1b",
   "metadata": {},
   "outputs": [
    {
     "name": "stdout",
     "output_type": "stream",
     "text": [
      "\n",
      "Loading dataset...\n",
      "Dataset loaded from scikit-learn.\n"
     ]
    }
   ],
   "source": [
    "# Load the dataset\n",
    "print(\"\\nLoading dataset...\")\n",
    "try:\n",
    "    # Try to load from scikit-learn first \n",
    "    from sklearn.datasets import load_breast_cancer\n",
    "    dataset = load_breast_cancer()\n",
    "    df = pd.DataFrame(dataset.data, columns=dataset.feature_names)\n",
    "    df['target'] = dataset.target\n",
    "    print(\"Dataset loaded from scikit-learn.\")\n",
    "except:\n",
    "    # If that fails, try loading from local path\n",
    "    try:\n",
    "        df = pd.read_csv(r'C:\\Course\\Breast Cancer Wisconsin Dataset\\data.csv')\n",
    "        print(\"Dataset loaded from local file 'data.csv'.\")\n",
    "    except:\n",
    "        print(\"Error loading dataset. Please ensure 'data.csv' is in the current directory.\")\n",
    "        import sys\n",
    "        sys.exit(1)"
   ]
  },
  {
   "cell_type": "code",
   "execution_count": 4,
   "id": "50c8f379-8320-47d4-a4e8-fe601e39fc50",
   "metadata": {},
   "outputs": [],
   "source": [
    "# Check if 'diagnosis' column exists (local CSV format) and convert to target\n",
    "if 'diagnosis' in df.columns:\n",
    "    # Some versions of the dataset use 'M' for malignant and 'B' for benign\n",
    "    if df['diagnosis'].dtype == 'object':\n",
    "        df['target'] = df['diagnosis'].map({'M': 0, 'B': 1})\n",
    "    df = df.drop('diagnosis', axis=1)"
   ]
  },
  {
   "cell_type": "code",
   "execution_count": 5,
   "id": "ff4357eb-47c6-449e-a7ab-6c93d2a384d7",
   "metadata": {},
   "outputs": [],
   "source": [
    "# Remove any ID column if present\n",
    "if 'id' in map(str.lower, df.columns):\n",
    "    id_col = [col for col in df.columns if col.lower() == 'id'][0]\n",
    "    df = df.drop(id_col, axis=1)\n",
    "elif 'Unnamed: 0' in df.columns:\n",
    "    df = df.drop('Unnamed: 0', axis=1)\n",
    "elif df.columns[0].lower().startswith('id'):\n",
    "    df = df.drop(df.columns[0], axis=1)"
   ]
  },
  {
   "cell_type": "code",
   "execution_count": 6,
   "id": "85c5c4a8-79f8-46fa-862b-a8b20fc8f3d9",
   "metadata": {},
   "outputs": [
    {
     "name": "stdout",
     "output_type": "stream",
     "text": [
      "\n",
      "1. Dataset Information:\n",
      "   • Number of samples: 569\n",
      "   • Number of features: 30\n",
      "   • Target distribution:\n",
      "     - Benign: 357 (62.7%)\n",
      "     - Malignant: 212 (37.3%)\n"
     ]
    }
   ],
   "source": [
    "# Display basic information\n",
    "print(\"\\n1. Dataset Information:\")\n",
    "print(f\"   • Number of samples: {df.shape[0]}\")\n",
    "print(f\"   • Number of features: {df.shape[1] - 1}\")  # Excluding target column\n",
    "print(f\"   • Target distribution:\")\n",
    "target_counts = df['target'].value_counts()\n",
    "for label, count in target_counts.items():\n",
    "    label_name = \"Benign\" if label == 1 else \"Malignant\"\n",
    "    print(f\"     - {label_name}: {count} ({count/len(df)*100:.1f}%)\")"
   ]
  },
  {
   "cell_type": "code",
   "execution_count": 7,
   "id": "ecefa5bd-b7aa-401a-b247-8b15e1743ecc",
   "metadata": {},
   "outputs": [],
   "source": [
    "# Split dataset into features and target\n",
    "X = df.drop('target', axis=1)\n",
    "y = df['target']"
   ]
  },
  {
   "cell_type": "code",
   "execution_count": 8,
   "id": "92fac7bc-2641-4a42-9ef4-af7ae2b839ea",
   "metadata": {},
   "outputs": [
    {
     "name": "stdout",
     "output_type": "stream",
     "text": [
      "\n",
      "2. Data Split:\n",
      "   • Training set: 455 samples\n",
      "   • Testing set: 114 samples\n"
     ]
    }
   ],
   "source": [
    "# Split the data into training and testing sets\n",
    "X_train, X_test, y_train, y_test = train_test_split(X, y, test_size=0.2, random_state=42, stratify=y)\n",
    "print(\"\\n2. Data Split:\")\n",
    "print(f\"   • Training set: {X_train.shape[0]} samples\")\n",
    "print(f\"   • Testing set: {X_test.shape[0]} samples\")"
   ]
  },
  {
   "cell_type": "code",
   "execution_count": 9,
   "id": "ca8f080a-7c39-4f85-9df6-eb1d63ccf9f1",
   "metadata": {},
   "outputs": [],
   "source": [
    "# Feature scaling\n",
    "scaler = StandardScaler()\n",
    "X_train_scaled = scaler.fit_transform(X_train)\n",
    "X_test_scaled = scaler.transform(X_test)"
   ]
  },
  {
   "cell_type": "code",
   "execution_count": 10,
   "id": "229e2394-2abd-4b9e-9b1c-6797b9368082",
   "metadata": {},
   "outputs": [],
   "source": [
    "# Visualize feature importance using mean values per class\n",
    "plt.figure(figsize=(14, 8))\n",
    "feature_means = df.groupby('target').mean()\n",
    "for feature in X.columns[:5]:  # Only showing top 5 features to avoid overcrowding\n",
    "    plt.plot([0, 1], feature_means.loc[:, feature], 'o-', label=feature)\n",
    "plt.xticks([0, 1], ['Malignant', 'Benign'])\n",
    "plt.ylabel('Standardized Feature Value')\n",
    "plt.legend(loc='best')\n",
    "plt.title('Mean Feature Values by Diagnosis (Top 5 Features)')\n",
    "plt.grid(True)\n",
    "plt.savefig('knn_feature_means.png')\n",
    "plt.close()"
   ]
  },
  {
   "cell_type": "code",
   "execution_count": 12,
   "id": "51e69c22-a7d3-4884-ad0b-b3a55195c4bd",
   "metadata": {},
   "outputs": [],
   "source": [
    "# PCA for visualization\n",
    "pca = PCA(n_components=2)\n",
    "X_pca = pca.fit_transform(scaler.transform(X))\n",
    "\n",
    "plt.figure(figsize=(10, 8))\n",
    "for target, color in zip([0, 1], colors):\n",
    "    plt.scatter(X_pca[y == target, 0], X_pca[y == target, 1], \n",
    "                c=color, label=\"Malignant\" if target == 0 else \"Benign\", alpha=0.7)\n",
    "plt.legend()\n",
    "plt.title('PCA of Breast Cancer Dataset')\n",
    "plt.xlabel(f'First Principal Component (Explained Variance: {pca.explained_variance_ratio_[0]:.2f})')\n",
    "plt.ylabel(f'Second Principal Component (Explained Variance: {pca.explained_variance_ratio_[1]:.2f})')\n",
    "plt.grid(True)\n",
    "plt.savefig('knn_pca_visualization.png')\n",
    "plt.close()"
   ]
  },
  {
   "cell_type": "code",
   "execution_count": 13,
   "id": "0c875dd9-844c-4e45-8386-672968284df2",
   "metadata": {},
   "outputs": [
    {
     "name": "stdout",
     "output_type": "stream",
     "text": [
      "\n",
      "3. Finding optimal K value for KNN classifier...\n"
     ]
    }
   ],
   "source": [
    "print(\"\\n3. Finding optimal K value for KNN classifier...\")\n",
    "# Find optimal k value\n",
    "k_range = list(range(1, 31, 2))\n",
    "scores = []\n",
    "for k in k_range:\n",
    "    knn = KNeighborsClassifier(n_neighbors=k)\n",
    "    knn.fit(X_train_scaled, y_train)\n",
    "    scores.append(knn.score(X_test_scaled, y_test))\n",
    "\n",
    "plt.figure(figsize=(10, 6))\n",
    "plt.plot(k_range, scores, 'bo-')\n",
    "plt.xlabel('Value of K')\n",
    "plt.ylabel('Testing Accuracy')\n",
    "plt.title('KNN: Accuracy vs. K Value')\n",
    "plt.grid(True)\n",
    "plt.savefig('knn_k_values.png')\n",
    "plt.close()"
   ]
  },
  {
   "cell_type": "code",
   "execution_count": 14,
   "id": "2e0fbd5b-59f4-4609-90e3-54fdc2f7bc3d",
   "metadata": {},
   "outputs": [
    {
     "name": "stdout",
     "output_type": "stream",
     "text": [
      "   • Optimal K value: 3\n"
     ]
    }
   ],
   "source": [
    "# Find best k value\n",
    "best_k = k_range[np.argmax(scores)]\n",
    "print(f\"   • Optimal K value: {best_k}\")"
   ]
  },
  {
   "cell_type": "code",
   "execution_count": 15,
   "id": "24aafb9d-15fe-450d-a509-e47b1b9190cc",
   "metadata": {},
   "outputs": [
    {
     "name": "stdout",
     "output_type": "stream",
     "text": [
      "\n",
      "4. Training KNN model with K=3...\n"
     ]
    },
    {
     "data": {
      "text/html": [
       "<style>#sk-container-id-1 {color: black;}#sk-container-id-1 pre{padding: 0;}#sk-container-id-1 div.sk-toggleable {background-color: white;}#sk-container-id-1 label.sk-toggleable__label {cursor: pointer;display: block;width: 100%;margin-bottom: 0;padding: 0.3em;box-sizing: border-box;text-align: center;}#sk-container-id-1 label.sk-toggleable__label-arrow:before {content: \"▸\";float: left;margin-right: 0.25em;color: #696969;}#sk-container-id-1 label.sk-toggleable__label-arrow:hover:before {color: black;}#sk-container-id-1 div.sk-estimator:hover label.sk-toggleable__label-arrow:before {color: black;}#sk-container-id-1 div.sk-toggleable__content {max-height: 0;max-width: 0;overflow: hidden;text-align: left;background-color: #f0f8ff;}#sk-container-id-1 div.sk-toggleable__content pre {margin: 0.2em;color: black;border-radius: 0.25em;background-color: #f0f8ff;}#sk-container-id-1 input.sk-toggleable__control:checked~div.sk-toggleable__content {max-height: 200px;max-width: 100%;overflow: auto;}#sk-container-id-1 input.sk-toggleable__control:checked~label.sk-toggleable__label-arrow:before {content: \"▾\";}#sk-container-id-1 div.sk-estimator input.sk-toggleable__control:checked~label.sk-toggleable__label {background-color: #d4ebff;}#sk-container-id-1 div.sk-label input.sk-toggleable__control:checked~label.sk-toggleable__label {background-color: #d4ebff;}#sk-container-id-1 input.sk-hidden--visually {border: 0;clip: rect(1px 1px 1px 1px);clip: rect(1px, 1px, 1px, 1px);height: 1px;margin: -1px;overflow: hidden;padding: 0;position: absolute;width: 1px;}#sk-container-id-1 div.sk-estimator {font-family: monospace;background-color: #f0f8ff;border: 1px dotted black;border-radius: 0.25em;box-sizing: border-box;margin-bottom: 0.5em;}#sk-container-id-1 div.sk-estimator:hover {background-color: #d4ebff;}#sk-container-id-1 div.sk-parallel-item::after {content: \"\";width: 100%;border-bottom: 1px solid gray;flex-grow: 1;}#sk-container-id-1 div.sk-label:hover label.sk-toggleable__label {background-color: #d4ebff;}#sk-container-id-1 div.sk-serial::before {content: \"\";position: absolute;border-left: 1px solid gray;box-sizing: border-box;top: 0;bottom: 0;left: 50%;z-index: 0;}#sk-container-id-1 div.sk-serial {display: flex;flex-direction: column;align-items: center;background-color: white;padding-right: 0.2em;padding-left: 0.2em;position: relative;}#sk-container-id-1 div.sk-item {position: relative;z-index: 1;}#sk-container-id-1 div.sk-parallel {display: flex;align-items: stretch;justify-content: center;background-color: white;position: relative;}#sk-container-id-1 div.sk-item::before, #sk-container-id-1 div.sk-parallel-item::before {content: \"\";position: absolute;border-left: 1px solid gray;box-sizing: border-box;top: 0;bottom: 0;left: 50%;z-index: -1;}#sk-container-id-1 div.sk-parallel-item {display: flex;flex-direction: column;z-index: 1;position: relative;background-color: white;}#sk-container-id-1 div.sk-parallel-item:first-child::after {align-self: flex-end;width: 50%;}#sk-container-id-1 div.sk-parallel-item:last-child::after {align-self: flex-start;width: 50%;}#sk-container-id-1 div.sk-parallel-item:only-child::after {width: 0;}#sk-container-id-1 div.sk-dashed-wrapped {border: 1px dashed gray;margin: 0 0.4em 0.5em 0.4em;box-sizing: border-box;padding-bottom: 0.4em;background-color: white;}#sk-container-id-1 div.sk-label label {font-family: monospace;font-weight: bold;display: inline-block;line-height: 1.2em;}#sk-container-id-1 div.sk-label-container {text-align: center;}#sk-container-id-1 div.sk-container {/* jupyter's `normalize.less` sets `[hidden] { display: none; }` but bootstrap.min.css set `[hidden] { display: none !important; }` so we also need the `!important` here to be able to override the default hidden behavior on the sphinx rendered scikit-learn.org. See: https://github.com/scikit-learn/scikit-learn/issues/21755 */display: inline-block !important;position: relative;}#sk-container-id-1 div.sk-text-repr-fallback {display: none;}</style><div id=\"sk-container-id-1\" class=\"sk-top-container\"><div class=\"sk-text-repr-fallback\"><pre>KNeighborsClassifier(n_neighbors=3)</pre><b>In a Jupyter environment, please rerun this cell to show the HTML representation or trust the notebook. <br />On GitHub, the HTML representation is unable to render, please try loading this page with nbviewer.org.</b></div><div class=\"sk-container\" hidden><div class=\"sk-item\"><div class=\"sk-estimator sk-toggleable\"><input class=\"sk-toggleable__control sk-hidden--visually\" id=\"sk-estimator-id-1\" type=\"checkbox\" checked><label for=\"sk-estimator-id-1\" class=\"sk-toggleable__label sk-toggleable__label-arrow\">KNeighborsClassifier</label><div class=\"sk-toggleable__content\"><pre>KNeighborsClassifier(n_neighbors=3)</pre></div></div></div></div></div>"
      ],
      "text/plain": [
       "KNeighborsClassifier(n_neighbors=3)"
      ]
     },
     "execution_count": 15,
     "metadata": {},
     "output_type": "execute_result"
    }
   ],
   "source": [
    "# Train KNN model with optimal K\n",
    "print(f\"\\n4. Training KNN model with K={best_k}...\")\n",
    "best_knn = KNeighborsClassifier(n_neighbors=best_k)\n",
    "best_knn.fit(X_train_scaled, y_train)"
   ]
  },
  {
   "cell_type": "code",
   "execution_count": 16,
   "id": "f4d3e463-5825-4be0-a638-df117cd3393f",
   "metadata": {},
   "outputs": [],
   "source": [
    "# Make predictions\n",
    "y_pred = best_knn.predict(X_test_scaled)\n",
    "y_prob = best_knn.predict_proba(X_test_scaled)[:, 1]  # Probability for class 1"
   ]
  },
  {
   "cell_type": "code",
   "execution_count": 17,
   "id": "f2fec842-fa42-4544-912f-71086e053aab",
   "metadata": {},
   "outputs": [
    {
     "name": "stdout",
     "output_type": "stream",
     "text": [
      "   • Test Accuracy: 0.9825\n"
     ]
    }
   ],
   "source": [
    "# Calculate accuracy\n",
    "accuracy = accuracy_score(y_test, y_pred)\n",
    "print(f\"   • Test Accuracy: {accuracy:.4f}\")"
   ]
  },
  {
   "cell_type": "code",
   "execution_count": 18,
   "id": "f064a2a8-49c2-4ec8-88f8-6f47f7997505",
   "metadata": {},
   "outputs": [
    {
     "name": "stdout",
     "output_type": "stream",
     "text": [
      "\n",
      "5. Classification Report:\n",
      "              precision    recall  f1-score   support\n",
      "\n",
      "   Malignant       1.00      0.95      0.98        42\n",
      "      Benign       0.97      1.00      0.99        72\n",
      "\n",
      "    accuracy                           0.98       114\n",
      "   macro avg       0.99      0.98      0.98       114\n",
      "weighted avg       0.98      0.98      0.98       114\n",
      "\n"
     ]
    }
   ],
   "source": [
    "# Classification Report\n",
    "print(\"\\n5. Classification Report:\")\n",
    "report = classification_report(y_test, y_pred, target_names=['Malignant', 'Benign'])\n",
    "print(report)"
   ]
  },
  {
   "cell_type": "code",
   "execution_count": 19,
   "id": "f52b0d4e-f675-462a-9daf-310996a56d89",
   "metadata": {},
   "outputs": [],
   "source": [
    "# Confusion Matrix\n",
    "cm = confusion_matrix(y_test, y_pred)\n",
    "plt.figure(figsize=(8, 6))\n",
    "sns.heatmap(cm, annot=True, fmt='d', cmap='Blues', \n",
    "            xticklabels=['Malignant', 'Benign'], \n",
    "            yticklabels=['Malignant', 'Benign'])\n",
    "plt.xlabel('Predicted')\n",
    "plt.ylabel('Actual')\n",
    "plt.title('Confusion Matrix for KNN')\n",
    "plt.savefig('knn_confusion_matrix.png')\n",
    "plt.close()"
   ]
  },
  {
   "cell_type": "code",
   "execution_count": 20,
   "id": "79bbb629-8da1-454b-95b5-5e65f41d7a22",
   "metadata": {},
   "outputs": [],
   "source": [
    "# ROC Curve\n",
    "fpr, tpr, _ = roc_curve(y_test, y_prob)\n",
    "roc_auc = roc_auc_score(y_test, y_prob)\n",
    "\n",
    "plt.figure(figsize=(8, 6))\n",
    "plt.plot(fpr, tpr, color='darkorange', lw=2, label=f'ROC curve (area = {roc_auc:.2f})')\n",
    "plt.plot([0, 1], [0, 1], color='navy', lw=2, linestyle='--')\n",
    "plt.xlim([0.0, 1.0])\n",
    "plt.ylim([0.0, 1.05])\n",
    "plt.xlabel('False Positive Rate')\n",
    "plt.ylabel('True Positive Rate')\n",
    "plt.title('Receiver Operating Characteristic (ROC) Curve - KNN')\n",
    "plt.legend(loc='lower right')\n",
    "plt.grid(True)\n",
    "plt.savefig('knn_roc_curve.png')\n",
    "plt.close()"
   ]
  },
  {
   "cell_type": "code",
   "execution_count": 21,
   "id": "9c04e9fc-75e2-4515-a887-e98446049cb3",
   "metadata": {},
   "outputs": [
    {
     "name": "stdout",
     "output_type": "stream",
     "text": [
      "\n",
      "6. Model Performance:\n",
      "   • Accuracy: 0.9825\n",
      "   • ROC AUC: 0.9835\n",
      "   • Sensitivity: 1.0000\n",
      "   • Specificity: 0.9524\n"
     ]
    }
   ],
   "source": [
    "print(\"\\n6. Model Performance:\")\n",
    "print(f\"   • Accuracy: {accuracy:.4f}\")\n",
    "print(f\"   • ROC AUC: {roc_auc:.4f}\")\n",
    "tn, fp, fn, tp = cm.ravel()\n",
    "sensitivity = tp / (tp + fn)\n",
    "specificity = tn / (tn + fp)\n",
    "print(f\"   • Sensitivity: {sensitivity:.4f}\")\n",
    "print(f\"   • Specificity: {specificity:.4f}\")"
   ]
  },
  {
   "cell_type": "code",
   "execution_count": 22,
   "id": "a709bb57-e5ef-4e69-b286-da17dc6a61c2",
   "metadata": {},
   "outputs": [
    {
     "name": "stdout",
     "output_type": "stream",
     "text": [
      "\n",
      "KNN Model Summary:\n",
      "• Best K value: 3\n",
      "• Test Accuracy: 0.9825\n",
      "• ROC AUC Score: 0.9835\n",
      "\n",
      "All visualizations have been saved as PNG files.\n"
     ]
    }
   ],
   "source": [
    "print(\"\\nKNN Model Summary:\")\n",
    "print(f\"• Best K value: {best_k}\")\n",
    "print(f\"• Test Accuracy: {accuracy:.4f}\")\n",
    "print(f\"• ROC AUC Score: {roc_auc:.4f}\")\n",
    "print(\"\\nAll visualizations have been saved as PNG files.\")"
   ]
  },
  {
   "cell_type": "code",
   "execution_count": 23,
   "id": "27783e63-93d4-49ab-8993-eea7f03639cf",
   "metadata": {},
   "outputs": [
    {
     "name": "stdout",
     "output_type": "stream",
     "text": [
      "Model saved as 'knn_model.joblib'\n"
     ]
    }
   ],
   "source": [
    "# Save the model (optional)\n",
    "from joblib import dump\n",
    "dump(best_knn, 'knn_model.joblib')\n",
    "print(\"Model saved as 'knn_model.joblib'\")"
   ]
  },
  {
   "cell_type": "code",
   "execution_count": null,
   "id": "f8ad6f40-c480-4f0e-a2a1-f2f9f73f56c3",
   "metadata": {},
   "outputs": [],
   "source": []
  },
  {
   "cell_type": "code",
   "execution_count": null,
   "id": "f50f275f-a692-4925-a291-9ec9de96032c",
   "metadata": {},
   "outputs": [],
   "source": []
  }
 ],
 "metadata": {
  "kernelspec": {
   "display_name": "Python 3 (ipykernel)",
   "language": "python",
   "name": "python3"
  },
  "language_info": {
   "codemirror_mode": {
    "name": "ipython",
    "version": 3
   },
   "file_extension": ".py",
   "mimetype": "text/x-python",
   "name": "python",
   "nbconvert_exporter": "python",
   "pygments_lexer": "ipython3",
   "version": "3.8.0"
  }
 },
 "nbformat": 4,
 "nbformat_minor": 5
}
